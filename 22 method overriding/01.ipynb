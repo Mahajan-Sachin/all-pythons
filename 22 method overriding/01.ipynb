{
 "cells": [
  {
   "cell_type": "code",
   "execution_count": 1,
   "metadata": {},
   "outputs": [
    {
     "name": "stdout",
     "output_type": "stream",
     "text": [
      "this is child class method\n"
     ]
    }
   ],
   "source": [
    "\"\"\"whenever we writing method name with same signatue in parent and child class called method overriding\"\"\"\n",
    "class A:\n",
    "    def Disp(self):\n",
    "        print(\"this is parent class method\")\n",
    "class B(A):\n",
    "    def Disp(self):\n",
    "        print(\"this is child class method\")\n",
    "obj=B()\n",
    "obj.Disp()#this will print (this is child class method) bcoz it overide above one"
   ]
  },
  {
   "cell_type": "code",
   "execution_count": 2,
   "metadata": {},
   "outputs": [
    {
     "name": "stdout",
     "output_type": "stream",
     "text": [
      "this is parent class method of x\n",
      "this is child class method of y\n"
     ]
    }
   ],
   "source": [
    "# we can also call above fn using super\n",
    "class x:\n",
    "    def Disp(self):\n",
    "        print(\"this is parent class method of x\")\n",
    "class y(x):\n",
    "    def Disp(self):\n",
    "        super().Disp()\n",
    "        print(\"this is child class method of y\")\n",
    "obj=y()\n",
    "obj.Disp()"
   ]
  },
  {
   "cell_type": "code",
   "execution_count": null,
   "metadata": {},
   "outputs": [],
   "source": []
  }
 ],
 "metadata": {
  "kernelspec": {
   "display_name": "Python 3",
   "language": "python",
   "name": "python3"
  },
  "language_info": {
   "codemirror_mode": {
    "name": "ipython",
    "version": 3
   },
   "file_extension": ".py",
   "mimetype": "text/x-python",
   "name": "python",
   "nbconvert_exporter": "python",
   "pygments_lexer": "ipython3",
   "version": "3.11.6"
  }
 },
 "nbformat": 4,
 "nbformat_minor": 2
}
