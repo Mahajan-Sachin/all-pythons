{
 "cells": [
  {
   "cell_type": "code",
   "execution_count": 7,
   "metadata": {},
   "outputs": [
    {
     "name": "stdout",
     "output_type": "stream",
     "text": [
      "22 ankur shkkhv\n"
     ]
    }
   ],
   "source": [
    "# parametized constructor accept arguments along with self.it is known asparametize constructor.\n",
    "\"\"\"class class-name\n",
    "    def __init__(self,name):#here we are passing the paramter along self as ypu can see\n",
    "        #code\"\"\"\n",
    "class A:\n",
    "    def __init__(self,age,name,address):\n",
    "        address=\"shkkhv\"\n",
    "        print(age,name,address)\n",
    "obj=A(22,\"ankur\",\"haryana\")#this shows how data is stored in variables\n"
   ]
  },
  {
   "cell_type": "code",
   "execution_count": 8,
   "metadata": {},
   "outputs": [
    {
     "name": "stdout",
     "output_type": "stream",
     "text": [
      "karan\n",
      "Raghu\n",
      "36\n"
     ]
    }
   ],
   "source": [
    "class Person:\n",
    "    def __init__(term,name,age):\n",
    "        print(\"karan\")\n",
    "        term.name=name\n",
    "        term.age=age\n",
    "p1=Person(\"Raghu\",36)\n",
    "print(p1.name)\n",
    "print(p1.age)"
   ]
  },
  {
   "cell_type": "code",
   "execution_count": 9,
   "metadata": {},
   "outputs": [
    {
     "name": "stdout",
     "output_type": "stream",
     "text": [
      "karan\n"
     ]
    }
   ],
   "source": [
    "class test:\n",
    "    def __init__(self,a):\n",
    "        self.a=a\n",
    "    def display(self):\n",
    "        print(self.a)\n",
    "obj=test(\"karan\")\n",
    "obj.display()\n"
   ]
  },
  {
   "cell_type": "code",
   "execution_count": null,
   "metadata": {},
   "outputs": [],
   "source": []
  }
 ],
 "metadata": {
  "kernelspec": {
   "display_name": "Python 3",
   "language": "python",
   "name": "python3"
  },
  "language_info": {
   "codemirror_mode": {
    "name": "ipython",
    "version": 3
   },
   "file_extension": ".py",
   "mimetype": "text/x-python",
   "name": "python",
   "nbconvert_exporter": "python",
   "pygments_lexer": "ipython3",
   "version": "3.11.6"
  }
 },
 "nbformat": 4,
 "nbformat_minor": 2
}
