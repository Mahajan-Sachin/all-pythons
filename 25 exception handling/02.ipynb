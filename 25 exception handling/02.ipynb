{
 "cells": [
  {
   "cell_type": "markdown",
   "metadata": {},
   "source": [
    "# zero error"
   ]
  },
  {
   "cell_type": "code",
   "execution_count": 1,
   "metadata": {},
   "outputs": [
    {
     "ename": "ZeroDivisionError",
     "evalue": "division by zero",
     "output_type": "error",
     "traceback": [
      "\u001b[1;31m---------------------------------------------------------------------------\u001b[0m",
      "\u001b[1;31mZeroDivisionError\u001b[0m                         Traceback (most recent call last)",
      "Cell \u001b[1;32mIn[1], line 3\u001b[0m\n\u001b[0;32m      1\u001b[0m a\u001b[38;5;241m=\u001b[39m\u001b[38;5;28mint\u001b[39m(\u001b[38;5;28minput\u001b[39m(\u001b[38;5;124m\"\u001b[39m\u001b[38;5;124menter first number: \u001b[39m\u001b[38;5;124m\"\u001b[39m))\n\u001b[0;32m      2\u001b[0m b\u001b[38;5;241m=\u001b[39m\u001b[38;5;28mint\u001b[39m(\u001b[38;5;28minput\u001b[39m(\u001b[38;5;124m\"\u001b[39m\u001b[38;5;124menter second number: \u001b[39m\u001b[38;5;124m\"\u001b[39m))\n\u001b[1;32m----> 3\u001b[0m c\u001b[38;5;241m=\u001b[39m\u001b[43ma\u001b[49m\u001b[38;5;241;43m/\u001b[39;49m\u001b[43mb\u001b[49m\n\u001b[0;32m      4\u001b[0m \u001b[38;5;28mprint\u001b[39m(\u001b[38;5;124m\"\u001b[39m\u001b[38;5;124mresult: \u001b[39m\u001b[38;5;124m\"\u001b[39m,c)\u001b[38;5;66;03m#try to take zero in denominator or you can say in b\u001b[39;00m\n",
      "\u001b[1;31mZeroDivisionError\u001b[0m: division by zero"
     ]
    }
   ],
   "source": [
    "a=int(input(\"enter first number: \"))\n",
    "b=int(input(\"enter second number: \"))\n",
    "c=a/b\n",
    "print(\"result: \",c)#try to take zero in denominator or you can say in b"
   ]
  },
  {
   "cell_type": "markdown",
   "metadata": {},
   "source": [
    "# problem in error"
   ]
  },
  {
   "cell_type": "code",
   "execution_count": null,
   "metadata": {},
   "outputs": [
    {
     "ename": "ZeroDivisionError",
     "evalue": "division by zero",
     "output_type": "error",
     "traceback": [
      "\u001b[1;31m---------------------------------------------------------------------------\u001b[0m",
      "\u001b[1;31mZeroDivisionError\u001b[0m                         Traceback (most recent call last)",
      "\u001b[1;32mc:\\Users\\sachi\\OneDrive\\Desktop\\all pythons\\25 exception handling\\02.ipynb Cell 4\u001b[0m line \u001b[0;36m4\n\u001b[0;32m      <a href='vscode-notebook-cell:/c%3A/Users/sachi/OneDrive/Desktop/all%20pythons/25%20exception%20handling/02.ipynb#W3sZmlsZQ%3D%3D?line=1'>2</a>\u001b[0m a\u001b[39m=\u001b[39m\u001b[39mint\u001b[39m(\u001b[39minput\u001b[39m(\u001b[39m\"\u001b[39m\u001b[39menter first number: \u001b[39m\u001b[39m\"\u001b[39m))\n\u001b[0;32m      <a href='vscode-notebook-cell:/c%3A/Users/sachi/OneDrive/Desktop/all%20pythons/25%20exception%20handling/02.ipynb#W3sZmlsZQ%3D%3D?line=2'>3</a>\u001b[0m b\u001b[39m=\u001b[39m\u001b[39mint\u001b[39m(\u001b[39minput\u001b[39m(\u001b[39m\"\u001b[39m\u001b[39menter second number: \u001b[39m\u001b[39m\"\u001b[39m))\n\u001b[1;32m----> <a href='vscode-notebook-cell:/c%3A/Users/sachi/OneDrive/Desktop/all%20pythons/25%20exception%20handling/02.ipynb#W3sZmlsZQ%3D%3D?line=3'>4</a>\u001b[0m c\u001b[39m=\u001b[39ma\u001b[39m/\u001b[39;49mb\n\u001b[0;32m      <a href='vscode-notebook-cell:/c%3A/Users/sachi/OneDrive/Desktop/all%20pythons/25%20exception%20handling/02.ipynb#W3sZmlsZQ%3D%3D?line=4'>5</a>\u001b[0m \u001b[39mprint\u001b[39m(\u001b[39m\"\u001b[39m\u001b[39mresult: \u001b[39m\u001b[39m\"\u001b[39m,c)\n\u001b[0;32m      <a href='vscode-notebook-cell:/c%3A/Users/sachi/OneDrive/Desktop/all%20pythons/25%20exception%20handling/02.ipynb#W3sZmlsZQ%3D%3D?line=5'>6</a>\u001b[0m \u001b[39mprint\u001b[39m(\u001b[39m\"\u001b[39m\u001b[39mankit is a good person\u001b[39m\u001b[39m\"\u001b[39m)\u001b[39m# it will not allow to print ankit ig above part shows error\u001b[39;00m\n",
      "\u001b[1;31mZeroDivisionError\u001b[0m: division by zero"
     ]
    }
   ],
   "source": [
    "# the biggest problem in coding is if we get a error execution gets stop and other works get effected \n",
    "a=int(input(\"enter first number: \"))\n",
    "b=int(input(\"enter second number: \"))\n",
    "c=a/b\n",
    "print(\"result: \",c)\n",
    "print(\"ankit is a good person\")# it will not allow to print ankit ig above part shows error"
   ]
  },
  {
   "cell_type": "markdown",
   "metadata": {},
   "source": [
    "# handling"
   ]
  },
  {
   "cell_type": "code",
   "execution_count": null,
   "metadata": {},
   "outputs": [
    {
     "name": "stdout",
     "output_type": "stream",
     "text": [
      "cant divide it by zero\n"
     ]
    }
   ],
   "source": [
    "a=int(input(\"enter first number: \"))\n",
    "b=int(input(\"enter second number: \"))\n",
    "try:\n",
    "    c=a/b\n",
    "    print(\"result: \",c)\n",
    "except:\n",
    "    print(\"cant divide it by zero\")"
   ]
  },
  {
   "cell_type": "code",
   "execution_count": null,
   "metadata": {},
   "outputs": [],
   "source": [
    "#understand now whenever their is error in try block the code will follow except block but if try block runs good then rember that else block(if used) also work with it"
   ]
  },
  {
   "cell_type": "code",
   "execution_count": null,
   "metadata": {},
   "outputs": [
    {
     "name": "stdout",
     "output_type": "stream",
     "text": [
      "result:  5.0\n",
      "aditya is a bad peron\n"
     ]
    }
   ],
   "source": [
    "a=int(input(\"enter first number: \"))\n",
    "b=int(input(\"enter second number: \"))\n",
    "try:\n",
    "    c=a/b\n",
    "    print(\"result: \",c)\n",
    "except:\n",
    "    print(\"cant divide it by zero\")\n",
    "else:\n",
    "    print(\"aditya is a bad peron\")"
   ]
  },
  {
   "cell_type": "code",
   "execution_count": null,
   "metadata": {},
   "outputs": [
    {
     "ename": "AttributeError",
     "evalue": "module 'tut' has no attribute 'add'",
     "output_type": "error",
     "traceback": [
      "\u001b[1;31m---------------------------------------------------------------------------\u001b[0m",
      "\u001b[1;31mAttributeError\u001b[0m                            Traceback (most recent call last)",
      "\u001b[1;32mc:\\Users\\sachi\\OneDrive\\Desktop\\all pythons\\25 exception handling\\02.ipynb Cell 9\u001b[0m line \u001b[0;36m2\n\u001b[0;32m      <a href='vscode-notebook-cell:/c%3A/Users/sachi/OneDrive/Desktop/all%20pythons/25%20exception%20handling/02.ipynb#X11sZmlsZQ%3D%3D?line=0'>1</a>\u001b[0m \u001b[39mimport\u001b[39;00m \u001b[39mtut\u001b[39;00m\n\u001b[1;32m----> <a href='vscode-notebook-cell:/c%3A/Users/sachi/OneDrive/Desktop/all%20pythons/25%20exception%20handling/02.ipynb#X11sZmlsZQ%3D%3D?line=1'>2</a>\u001b[0m tut\u001b[39m.\u001b[39;49madd(\u001b[39m6\u001b[39m,\u001b[39m4\u001b[39m)\n",
      "\u001b[1;31mAttributeError\u001b[0m: module 'tut' has no attribute 'add'"
     ]
    }
   ],
   "source": [
    "import tut\n",
    "tut.add(6,4)"
   ]
  },
  {
   "cell_type": "markdown",
   "metadata": {},
   "source": [
    "# pickle"
   ]
  },
  {
   "cell_type": "code",
   "execution_count": null,
   "metadata": {},
   "outputs": [],
   "source": [
    "\"\"\"the pickle module implements a fundamental,but powerfull algorithm for serializing(means store) and deserializing(to read) a python object structure\"\"\"\n",
    "#pickle  1)dump()  the function is called to serialize an object hierchy\n",
    "#        2)load()  this function is called to de-serialize a data stream\n",
    "\"\"\"it can do only two things 1)wb and wr\"\"\""
   ]
  },
  {
   "cell_type": "code",
   "execution_count": 6,
   "metadata": {},
   "outputs": [
    {
     "name": "stdout",
     "output_type": "stream",
     "text": [
      "[10, 20, 30, 40]\n"
     ]
    }
   ],
   "source": [
    "import pickle\n",
    "l=[10,20,30,40]\n",
    "file=open(\"writedata.txt\",\"wb\")\n",
    "pickle.dump(l,file)\n",
    "file.close()\n",
    "\n",
    "import pickle\n",
    "file1=open(\"writedata.txt\",\"rb\")\n",
    "l=pickle.load(file1)\n",
    "print(l)"
   ]
  },
  {
   "cell_type": "markdown",
   "metadata": {},
   "source": [
    "# nested try block"
   ]
  },
  {
   "cell_type": "code",
   "execution_count": 7,
   "metadata": {},
   "outputs": [
    {
     "name": "stdout",
     "output_type": "stream",
     "text": [
      "outer try block\n",
      "inner try block\n",
      "inner finally\n",
      "outer finally\n"
     ]
    }
   ],
   "source": [
    "#case1 no exception\n",
    "try:\n",
    "    print(\"outer try block\")\n",
    "    try:\n",
    "        print(\"inner try block\")\n",
    "    except:\n",
    "        print(\"inner except block\")\n",
    "    finally:\n",
    "        print(\"inner finally\")\n",
    "except:\n",
    "    print(\"ourt finally\")\n",
    "finally:\n",
    "    print(\"outer finally\")"
   ]
  },
  {
   "cell_type": "code",
   "execution_count": 8,
   "metadata": {},
   "outputs": [
    {
     "name": "stdout",
     "output_type": "stream",
     "text": [
      "outer try block\n",
      "zerodivision error finally\n",
      "outer finally\n"
     ]
    }
   ],
   "source": [
    "#case2: exception in outer\n",
    "try:\n",
    "    print(\"outer try block\")\n",
    "    print(10/0)\n",
    "    try:\n",
    "        print(\"inner try block\")\n",
    "    except ZeroDivisionError:\n",
    "        print(\"inner except block\")\n",
    "    finally:\n",
    "        print(\"inner finally\")\n",
    "except:\n",
    "    print(\"zerodivision error finally\")\n",
    "finally:\n",
    "    print(\"outer finally\")"
   ]
  },
  {
   "cell_type": "code",
   "execution_count": 10,
   "metadata": {},
   "outputs": [
    {
     "name": "stdout",
     "output_type": "stream",
     "text": [
      "outer try block\n",
      "inner except block\n",
      "inner finally\n",
      "outer finally\n"
     ]
    }
   ],
   "source": [
    "#case3) inner exception\n",
    "try:\n",
    "    print(\"outer try block\")\n",
    "    try:\n",
    "        print(10/0)\n",
    "        print(\"inner try block\")\n",
    "    except ZeroDivisionError:\n",
    "        print(\"inner except block\")\n",
    "    finally:\n",
    "        print(\"inner finally\")\n",
    "except:\n",
    "    print(\"ourt finally\")\n",
    "finally:\n",
    "    print(\"outer finally\")"
   ]
  },
  {
   "cell_type": "code",
   "execution_count": 12,
   "metadata": {},
   "outputs": [
    {
     "name": "stdout",
     "output_type": "stream",
     "text": [
      "outer try block\n",
      "inner finally\n",
      "ourt finally\n",
      "outer finally\n"
     ]
    }
   ],
   "source": [
    "#case4) when exceptiom occurs in inner but we dont have exception block to handle it\n",
    "try:\n",
    "    print(\"outer try block\")\n",
    "    try:\n",
    "        print(10/0)\n",
    "        print(\"inner try block\")\n",
    "    finally:\n",
    "        print(\"inner finally\")\n",
    "except:\n",
    "    print(\"ourt finally\")# now outerwill handle inner\n",
    "finally:\n",
    "    print(\"outer finally\")"
   ]
  },
  {
   "cell_type": "code",
   "execution_count": null,
   "metadata": {},
   "outputs": [],
   "source": []
  }
 ],
 "metadata": {
  "kernelspec": {
   "display_name": "Python 3",
   "language": "python",
   "name": "python3"
  },
  "language_info": {
   "codemirror_mode": {
    "name": "ipython",
    "version": 3
   },
   "file_extension": ".py",
   "mimetype": "text/x-python",
   "name": "python",
   "nbconvert_exporter": "python",
   "pygments_lexer": "ipython3",
   "version": "3.11.6"
  }
 },
 "nbformat": 4,
 "nbformat_minor": 2
}
