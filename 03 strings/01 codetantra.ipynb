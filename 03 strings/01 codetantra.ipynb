{
 "cells": [
  {
   "cell_type": "markdown",
   "metadata": {},
   "source": [
    "#  slicing operator\n"
   ]
  },
  {
   "cell_type": "code",
   "execution_count": 1,
   "metadata": {},
   "outputs": [],
   "source": [
    "# startindex:endindex:step"
   ]
  },
  {
   "cell_type": "code",
   "execution_count": 6,
   "metadata": {},
   "outputs": [
    {
     "name": "stdout",
     "output_type": "stream",
     "text": [
      "hello1234python\n",
      "hello1\n",
      "hell\n",
      "hlo24yhn\n",
      "hl2ph\n",
      "a[::4] ho4h\n",
      "el13pto\n"
     ]
    }
   ],
   "source": [
    "a=\"hello1234python\"\n",
    "print(a[0:])\n",
    "print(a[:6])\n",
    "print(a[:4])\n",
    "print(a[::2])\n",
    "print(a[::3])\n",
    "print(\"a[::4]\",a[::4])\n",
    "print(a[1:-1:2])"
   ]
  },
  {
   "cell_type": "markdown",
   "metadata": {},
   "source": [
    "# all cases"
   ]
  },
  {
   "cell_type": "markdown",
   "metadata": {},
   "source": [
    "# 1)capitalize()"
   ]
  },
  {
   "cell_type": "code",
   "execution_count": 13,
   "metadata": {},
   "outputs": [
    {
     "name": "stdout",
     "output_type": "stream",
     "text": [
      "Hello python and java script\n",
      "hello python and java script\n",
      "HELLO PYTHON AND JAVA SCRIPT\n",
      "Hello Python And Java Script\n",
      "hELLO PYTHON aND JAva scrIPT\n",
      "Greeting python And jaVA SCRipt\n"
     ]
    }
   ],
   "source": [
    "\"Hello python And jaVA SCRipt\"\n",
    "\"www\"\n",
    "print(a.capitalize())\n",
    "print(a.lower())\n",
    "print(a.upper())\n",
    "print(a.title())\n",
    "print(a.swapcase())\n",
    "print(a.replace(\"Hello\",\"Greeting\"))\n",
    "\n"
   ]
  },
  {
   "cell_type": "code",
   "execution_count": 15,
   "metadata": {},
   "outputs": [
    {
     "name": "stdout",
     "output_type": "stream",
     "text": [
      "True\n"
     ]
    }
   ],
   "source": [
    "a=\"Hello python And jaVA SCRipt\"\n",
    "b=\"www\"\n",
    "c=(a.capitalize())\n",
    "d=(a.lower())\n",
    "e=(a.upper())\n",
    "f=(a.title())\n",
    "x=(a.swapcase())\n",
    "y=(a.replace(\"Hello\",\"Greeting\"))\n",
    "print(e.isupper())"
   ]
  },
  {
   "cell_type": "markdown",
   "metadata": {},
   "source": [
    "# methods"
   ]
  },
  {
   "cell_type": "code",
   "execution_count": 29,
   "metadata": {},
   "outputs": [
    {
     "name": "stdout",
     "output_type": "stream",
     "text": [
      "False\n",
      "False\n",
      "7\n",
      "7\n",
      "16\n",
      " \n",
      "z\n"
     ]
    }
   ],
   "source": [
    "a=\"()hllo/python_xyz+and*xyz-xy_z_11%\"\n",
    "b=\"abcdefghijk lmnopqrstuvwxy\"\n",
    "print(a.startswith(\"hello\"))\n",
    "print(a.endswith(\"111\"))\n",
    "print(a.find(\"p\"))\n",
    "print(a.find(\"py\"))\n",
    "print(a.find(\"z\"))\n",
    "print(min(b))\n",
    "print(max(a))"
   ]
  },
  {
   "cell_type": "code",
   "execution_count": 37,
   "metadata": {},
   "outputs": [
    {
     "name": "stdout",
     "output_type": "stream",
     "text": [
      "helloworld"
     ]
    }
   ],
   "source": [
    "\n",
    "str=input(\"enter: \")\n",
    "result=\"\"\n",
    "for items in str:\n",
    "    if(not items.isdigit()):\n",
    "        b=result.join(items)\n",
    "        print(b,end=\"\")"
   ]
  },
  {
   "cell_type": "code",
   "execution_count": 39,
   "metadata": {},
   "outputs": [
    {
     "name": "stdout",
     "output_type": "stream",
     "text": [
      "kkaarraann"
     ]
    }
   ],
   "source": [
    "str=input()\n",
    "for i in str:\n",
    "    print(i*2,end=\"\")"
   ]
  },
  {
   "cell_type": "code",
   "execution_count": 52,
   "metadata": {},
   "outputs": [
    {
     "name": "stdout",
     "output_type": "stream",
     "text": [
      "['h', 2]\n",
      "['e', 1]\n",
      "['l', 2]\n",
      "['l', 2]\n",
      "['o', 2]\n",
      "[' ', 1]\n",
      "['p', 1]\n",
      "['y', 1]\n",
      "['t', 1]\n",
      "['h', 2]\n",
      "['o', 2]\n",
      "['n', 1]\n"
     ]
    }
   ],
   "source": [
    "str=input(\"str: \")\n",
    "for i in str:\n",
    "    a=sorted(i)\n",
    "    b=(i,str.count(i))\n",
    "    print(list(b))"
   ]
  },
  {
   "cell_type": "markdown",
   "metadata": {},
   "source": [
    "# import strings"
   ]
  },
  {
   "cell_type": "code",
   "execution_count": 1,
   "metadata": {},
   "outputs": [
    {
     "name": "stdout",
     "output_type": "stream",
     "text": [
      "!\"#$%&'()*+,-./:;<=>?@[\\]^_`{|}~\n",
      "0123456789\n",
      "0123456789abcdefghijklmnopqrstuvwxyzABCDEFGHIJKLMNOPQRSTUVWXYZ!\"#$%&'()*+,-./:;<=>?@[\\]^_`{|}~ \t\n",
      "\u000b\f\n",
      "0123456789abcdefABCDEF\n",
      "01234567\n"
     ]
    }
   ],
   "source": [
    "import string\n",
    "print(string.punctuation)\n",
    "\n",
    "print(string.digits)\n",
    "\n",
    "print(string.printable)\n",
    "\n",
    "print(string.hexdigits)\n",
    "\n",
    "print(string.octdigits)"
   ]
  },
  {
   "cell_type": "code",
   "execution_count": null,
   "metadata": {},
   "outputs": [],
   "source": []
  }
 ],
 "metadata": {
  "kernelspec": {
   "display_name": "Python 3",
   "language": "python",
   "name": "python3"
  },
  "language_info": {
   "codemirror_mode": {
    "name": "ipython",
    "version": 3
   },
   "file_extension": ".py",
   "mimetype": "text/x-python",
   "name": "python",
   "nbconvert_exporter": "python",
   "pygments_lexer": "ipython3",
   "version": "3.11.6"
  }
 },
 "nbformat": 4,
 "nbformat_minor": 2
}
