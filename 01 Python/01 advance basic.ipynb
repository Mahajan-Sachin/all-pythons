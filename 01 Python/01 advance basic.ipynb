{
 "cells": [
  {
   "cell_type": "markdown",
   "metadata": {},
   "source": [
    "# comments"
   ]
  },
  {
   "cell_type": "code",
   "execution_count": 2,
   "metadata": {},
   "outputs": [
    {
     "name": "stdout",
     "output_type": "stream",
     "text": [
      "90\n"
     ]
    }
   ],
   "source": [
    "a=45#this is a comment\n",
    "b=45\n",
    "'''this is a comment in single triple quote until there is no variable assigning it'''\n",
    "print(a+b)"
   ]
  },
  {
   "cell_type": "code",
   "execution_count": 4,
   "metadata": {},
   "outputs": [
    {
     "name": "stdout",
     "output_type": "stream",
     "text": [
      "now this is not a comment anymore \n"
     ]
    }
   ],
   "source": [
    "a=45\n",
    "b=45\n",
    "\"\"\"this is also a comment in triple double quote \"\"\"\n",
    "d=\"\"\"now this is not a comment anymore \"\"\"\n",
    "print(d)"
   ]
  },
  {
   "cell_type": "code",
   "execution_count": 5,
   "metadata": {},
   "outputs": [
    {
     "name": "stdout",
     "output_type": "stream",
     "text": [
      "karan#45\n"
     ]
    }
   ],
   "source": [
    "a=\"karan#45\"\n",
    "print(a)#now even # in \"#\" is not consider comment"
   ]
  },
  {
   "cell_type": "code",
   "execution_count": 7,
   "metadata": {},
   "outputs": [
    {
     "name": "stdout",
     "output_type": "stream",
     "text": [
      "9\n",
      "here we will add a and b\n"
     ]
    }
   ],
   "source": [
    "# extracting comment or docstring\n",
    "def add(a,b):\n",
    "    \"\"\"using __doc__ we can extract doctstring comment\"\"\"\n",
    "    c=a+b\n",
    "    print(c)\n",
    "add(4,5)\n",
    "print(add.__doc__)"
   ]
  },
  {
   "cell_type": "markdown",
   "metadata": {},
   "source": [
    "# keywords"
   ]
  },
  {
   "cell_type": "code",
   "execution_count": 8,
   "metadata": {},
   "outputs": [
    {
     "data": {
      "text/plain": [
       "'There are 36 keywords in Python.'"
      ]
     },
     "execution_count": 8,
     "metadata": {},
     "output_type": "execute_result"
    }
   ],
   "source": [
    "\"\"\"There are 36 keywords in Python.\"\"\""
   ]
  },
  {
   "cell_type": "code",
   "execution_count": 12,
   "metadata": {},
   "outputs": [
    {
     "name": "stdout",
     "output_type": "stream",
     "text": [
      "and is a keyword: True\n",
      "True is a keyword: True\n",
      "karan is a keyword: False\n"
     ]
    }
   ],
   "source": [
    "#to check a keyword\n",
    "import keyword\n",
    "print(\"and is a keyword:\",keyword.iskeyword(\"and\"))\n",
    "print(\"True is a keyword:\",keyword.iskeyword(\"True\"))\n",
    "print(\"karan is a keyword:\",keyword.iskeyword(\"karan\"))"
   ]
  },
  {
   "cell_type": "markdown",
   "metadata": {},
   "source": [
    "# statements"
   ]
  },
  {
   "cell_type": "code",
   "execution_count": 13,
   "metadata": {},
   "outputs": [
    {
     "data": {
      "text/plain": [
       "'in python we have diff statements:\\n1)print 2)assignment 3)selective 4)iterative 5)control flow 6)function declaration '"
      ]
     },
     "execution_count": 13,
     "metadata": {},
     "output_type": "execute_result"
    }
   ],
   "source": [
    "\"\"\"in python we have diff statements:\n",
    "1)print 2)assignment 3)selective 4)iterative 5)control flow 6)function declaration \"\"\"\n",
    "#print we know"
   ]
  },
  {
   "cell_type": "markdown",
   "metadata": {},
   "source": [
    "\n",
    "# assignment"
   ]
  },
  {
   "cell_type": "code",
   "execution_count": 15,
   "metadata": {},
   "outputs": [
    {
     "name": "stdout",
     "output_type": "stream",
     "text": [
      "46.0\n"
     ]
    }
   ],
   "source": [
    "#just giving names/variables\n",
    "a=45+45/45#this is assignment and more specifically basic assignment\n",
    "print(a)#print"
   ]
  },
  {
   "cell_type": "code",
   "execution_count": 17,
   "metadata": {},
   "outputs": [
    {
     "name": "stdout",
     "output_type": "stream",
     "text": [
      "60\n"
     ]
    }
   ],
   "source": [
    "a=10\n",
    "b=20\n",
    "a=a+b#this is called augmented assignment\n",
    "a+=a\n",
    "print(a)"
   ]
  },
  {
   "cell_type": "markdown",
   "metadata": {},
   "source": [
    "# types"
   ]
  },
  {
   "cell_type": "code",
   "execution_count": 18,
   "metadata": {},
   "outputs": [
    {
     "name": "stdout",
     "output_type": "stream",
     "text": [
      "<class 'int'>\n",
      "<class 'float'>\n",
      "<class 'complex'>\n"
     ]
    }
   ],
   "source": [
    "a=45\n",
    "b=45.77\n",
    "c=45+20j\n",
    "print(type(a))\n",
    "print(type(b))\n",
    "print(type(c))"
   ]
  },
  {
   "cell_type": "markdown",
   "metadata": {},
   "source": [
    "# some basic pts"
   ]
  },
  {
   "cell_type": "code",
   "execution_count": 19,
   "metadata": {},
   "outputs": [],
   "source": [
    "# encoding means converting strings of char into numbers\n",
    "# there aretwo types of encoding ascii and unicode\n",
    "# letter A has 65 ascii val\n",
    "# ascii has 8 bits  unicode 32 bits\n",
    "\n"
   ]
  },
  {
   "cell_type": "code",
   "execution_count": null,
   "metadata": {},
   "outputs": [],
   "source": []
  }
 ],
 "metadata": {
  "kernelspec": {
   "display_name": "Python 3",
   "language": "python",
   "name": "python3"
  },
  "language_info": {
   "codemirror_mode": {
    "name": "ipython",
    "version": 3
   },
   "file_extension": ".py",
   "mimetype": "text/x-python",
   "name": "python",
   "nbconvert_exporter": "python",
   "pygments_lexer": "ipython3",
   "version": "3.11.7"
  }
 },
 "nbformat": 4,
 "nbformat_minor": 2
}
