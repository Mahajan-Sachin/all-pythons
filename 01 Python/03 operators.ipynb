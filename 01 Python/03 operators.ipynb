{
 "cells": [
  {
   "cell_type": "markdown",
   "metadata": {},
   "source": [
    "# logical operator and its 3 types"
   ]
  },
  {
   "cell_type": "code",
   "execution_count": 1,
   "metadata": {},
   "outputs": [
    {
     "name": "stdout",
     "output_type": "stream",
     "text": [
      "False\n",
      "False\n",
      "True\n",
      "True\n",
      "False\n"
     ]
    }
   ],
   "source": [
    "a=13\n",
    "b=2\n",
    "c=10\n",
    "print(a<b and a>b)#false\n",
    "print(a>b and c>a)#false\n",
    "print((a/2)>(c/b))#true\n",
    "print(a<b or c>b)#true check for any one\n",
    "print(not((a/2)>(c/b)))\n"
   ]
  },
  {
   "cell_type": "markdown",
   "metadata": {},
   "source": [
    "# bitwise operator"
   ]
  },
  {
   "cell_type": "code",
   "execution_count": 2,
   "metadata": {},
   "outputs": [],
   "source": [
    "# apply only for int and bool not even in float"
   ]
  },
  {
   "cell_type": "code",
   "execution_count": 3,
   "metadata": {},
   "outputs": [
    {
     "name": "stdout",
     "output_type": "stream",
     "text": [
      "4\n"
     ]
    }
   ],
   "source": [
    "print(5 & 6)"
   ]
  },
  {
   "cell_type": "markdown",
   "metadata": {},
   "source": [
    "# arithmetic"
   ]
  },
  {
   "cell_type": "code",
   "execution_count": 3,
   "metadata": {},
   "outputs": [
    {
     "name": "stdout",
     "output_type": "stream",
     "text": [
      "The value of 4+8 is\n",
      "sum of a and b is 15\n",
      "the value of a-b is 5\n",
      "the value of a/b is 2.0\n"
     ]
    }
   ],
   "source": [
    "a=int(input(\"a: \"))\n",
    "b=int(input(\"b: \"))\n",
    "print(\"The value of 4+8 is\") \n",
    "print(\"sum of a and b is\",a+b)\n",
    "print(\"the value of a-b is\",a-b)\n",
    "print(\"the value of a/b is\", a/b)"
   ]
  },
  {
   "cell_type": "markdown",
   "metadata": {},
   "source": [
    "# Assignment operator"
   ]
  },
  {
   "cell_type": "code",
   "execution_count": 1,
   "metadata": {},
   "outputs": [
    {
     "name": "stdout",
     "output_type": "stream",
     "text": [
      "5.2\n"
     ]
    }
   ],
   "source": [
    "a=10\n",
    "a+=21\n",
    "a-=5\n",
    "a/=5\n",
    "print (a)"
   ]
  },
  {
   "cell_type": "markdown",
   "metadata": {},
   "source": [
    "# comparision"
   ]
  },
  {
   "cell_type": "code",
   "execution_count": null,
   "metadata": {},
   "outputs": [],
   "source": [
    "b=(4>7)\n",
    "print(b)\n",
    "a=(14>7)\n",
    "print(a)"
   ]
  },
  {
   "cell_type": "markdown",
   "metadata": {},
   "source": [
    "# bools opartor"
   ]
  },
  {
   "cell_type": "code",
   "execution_count": 2,
   "metadata": {},
   "outputs": [
    {
     "name": "stdout",
     "output_type": "stream",
     "text": [
      "the value of bool1 and bool2 is False\n",
      "the value of bool1 or bool2 is True\n",
      "the value of not bool2 is True\n",
      "the value of not bool1  is False\n"
     ]
    }
   ],
   "source": [
    "#bool operators\n",
    "bool1=True\n",
    "bool2=False\n",
    "print(\"the value of bool1 and bool2 is\",(bool1 and bool2))\n",
    "print(\"the value of bool1 or bool2 is\",(bool1 or bool2))\n",
    "print(\"the value of not bool2 is\",not bool2)\n",
    "print(\"the value of not bool1  is\",not bool1)"
   ]
  },
  {
   "cell_type": "code",
   "execution_count": null,
   "metadata": {},
   "outputs": [],
   "source": []
  }
 ],
 "metadata": {
  "kernelspec": {
   "display_name": "Python 3",
   "language": "python",
   "name": "python3"
  },
  "language_info": {
   "codemirror_mode": {
    "name": "ipython",
    "version": 3
   },
   "file_extension": ".py",
   "mimetype": "text/x-python",
   "name": "python",
   "nbconvert_exporter": "python",
   "pygments_lexer": "ipython3",
   "version": "3.11.7"
  }
 },
 "nbformat": 4,
 "nbformat_minor": 2
}
