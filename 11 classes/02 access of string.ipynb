{
 "cells": [
  {
   "cell_type": "code",
   "execution_count": 1,
   "metadata": {},
   "outputs": [
    {
     "name": "stdout",
     "output_type": "stream",
     "text": [
      "20\n",
      "25\n",
      "20\n",
      "25\n",
      "learn coding...  hello bechoo\n"
     ]
    }
   ],
   "source": [
    "class C:\n",
    "     \"learn coding...\" \"\"\"  hello bechoo\"\"\"#this is a comment\n",
    "     age=25   \n",
    "     def __init__(self): \n",
    "        #to access string your string must and must in 1st line just after class\n",
    "       age1=20\n",
    "       print(age1)\n",
    "       print(self.age)\n",
    "obj=C()\n",
    "obj2=C()\n",
    "print(C.__doc__)#as you can see even a comment can be print in this way"
   ]
  },
  {
   "cell_type": "code",
   "execution_count": 2,
   "metadata": {},
   "outputs": [
    {
     "name": "stdout",
     "output_type": "stream",
     "text": [
      "name 100 age 19 roll:77 marks 100\n"
     ]
    }
   ],
   "source": [
    "class A:\n",
    "    def __init__(self,name,age):\n",
    "        self.name=name\n",
    "        self.age=age\n",
    "    def details(self,roll_no,marks):\n",
    "        self.roll_no=roll_no\n",
    "        self.marks=marks\n",
    "    def display(self):\n",
    "        print(f'name {self.marks} age {self.age} roll:{self.roll_no} marks {self.marks}')\n",
    "obj=A(\"karan\",19)\n",
    "obj.details(77,100)\n",
    "obj.display()"
   ]
  },
  {
   "cell_type": "code",
   "execution_count": 6,
   "metadata": {},
   "outputs": [
    {
     "name": "stdout",
     "output_type": "stream",
     "text": [
      "20\n",
      "15\n",
      "karan\n",
      "learn coding...  hello bechoo\n"
     ]
    }
   ],
   "source": [
    "class C:\n",
    "     \"learn coding...\" \"\"\"  hello bechoo\"\"\"#this is a comment\n",
    "     age=25   \n",
    "     def __init__(self,name,age): \n",
    "        #to access string your string must and must in 1st line just after class\n",
    "       age1=20\n",
    "       self.name=age\n",
    "       self.age=name\n",
    "       print(age1)\n",
    "       print(self.name)\n",
    "       print(self.age)\n",
    "obj=C(\"karan\",15)\n",
    "print(C.__doc__)#as you can see even a comment can be print in this way"
   ]
  },
  {
   "cell_type": "code",
   "execution_count": null,
   "metadata": {},
   "outputs": [],
   "source": []
  }
 ],
 "metadata": {
  "kernelspec": {
   "display_name": "Python 3",
   "language": "python",
   "name": "python3"
  },
  "language_info": {
   "codemirror_mode": {
    "name": "ipython",
    "version": 3
   },
   "file_extension": ".py",
   "mimetype": "text/x-python",
   "name": "python",
   "nbconvert_exporter": "python",
   "pygments_lexer": "ipython3",
   "version": "3.11.6"
  }
 },
 "nbformat": 4,
 "nbformat_minor": 2
}
